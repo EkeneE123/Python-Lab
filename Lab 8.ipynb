{
 "cells": [
  {
   "cell_type": "code",
   "execution_count": 8,
   "id": "8de06682",
   "metadata": {},
   "outputs": [],
   "source": [
    "class Pair:\n",
    "    \n",
    "    def __init__(self, x, y):\n",
    "        self.x = x\n",
    "        self.y = y\n",
    "    def __repr__(self):\n",
    "        return 'Pair({0.x!r}, {0.y!r})'.format(self) \n",
    "    def __str__(self):\n",
    "        return '({0.x!s}, {0.y!s})'.format(self)\n",
    "\n"
   ]
  },
  {
   "cell_type": "code",
   "execution_count": 9,
   "id": "bfa7fb76",
   "metadata": {},
   "outputs": [],
   "source": [
    " p = Pair(2, 1)"
   ]
  },
  {
   "cell_type": "code",
   "execution_count": 10,
   "id": "6fcef735",
   "metadata": {},
   "outputs": [
    {
     "data": {
      "text/plain": [
       "Pair(2, 1)"
      ]
     },
     "execution_count": 10,
     "metadata": {},
     "output_type": "execute_result"
    }
   ],
   "source": [
    "p"
   ]
  },
  {
   "cell_type": "code",
   "execution_count": 11,
   "id": "277d6d2c",
   "metadata": {},
   "outputs": [
    {
     "name": "stdout",
     "output_type": "stream",
     "text": [
      "(2, 1)\n"
     ]
    }
   ],
   "source": [
    "print(p)"
   ]
  },
  {
   "cell_type": "code",
   "execution_count": 13,
   "id": "7de7c9d6",
   "metadata": {},
   "outputs": [],
   "source": [
    "_formats = {\n",
    "        'ymd' : '{d.year}-{d.month}-{d.day}',\n",
    "        'mdy' : '{d.month}/{d.day}/{d.year}',\n",
    "        'dmy' : '{d.day}/{d.month}/{d.year}'\n",
    "        }\n",
    "class Date:\n",
    "    def __init__(self, year, month, day):\n",
    "        self.year = year\n",
    "        self.month = month\n",
    "        self.day = day\n",
    "    def __format__(self, code): \n",
    "        if code == '':\n",
    "            code = 'ymd'\n",
    "        fmt = _formats[code] \n",
    "        return fmt.format(d=self)"
   ]
  },
  {
   "cell_type": "code",
   "execution_count": 14,
   "id": "ea8dc9a2",
   "metadata": {},
   "outputs": [],
   "source": [
    "d = Date(2012, 12, 21)"
   ]
  },
  {
   "cell_type": "code",
   "execution_count": 15,
   "id": "4e25d689",
   "metadata": {},
   "outputs": [
    {
     "data": {
      "text/plain": [
       "'2012-12-21'"
      ]
     },
     "execution_count": 15,
     "metadata": {},
     "output_type": "execute_result"
    }
   ],
   "source": [
    "format(d)"
   ]
  },
  {
   "cell_type": "code",
   "execution_count": 16,
   "id": "323456bd",
   "metadata": {},
   "outputs": [
    {
     "data": {
      "text/plain": [
       "'12/21/2012'"
      ]
     },
     "execution_count": 16,
     "metadata": {},
     "output_type": "execute_result"
    }
   ],
   "source": [
    "format(d, 'mdy')"
   ]
  },
  {
   "cell_type": "code",
   "execution_count": 17,
   "id": "d9535fed",
   "metadata": {},
   "outputs": [],
   "source": [
    "from socket import socket, AF_INET, SOCK_STREAM\n",
    "class LazyConnection:\n",
    "    def __init__(self, address, family=AF_INET, type=SOCK_STREAM):\n",
    "        self.address = address\n",
    "        self.family = AF_INET\n",
    "        self.type = SOCK_STREAM\n",
    "        self.sock = None\n",
    "    def __enter__(self):\n",
    "        if self.sock is not None:\n",
    "            raise RuntimeError('Already connected') \n",
    "        self.sock = socket(self.family, self.type) \n",
    "        self.sock.connect(self.address)\n",
    "        return self.sock\n",
    "    def __exit__(self, exc_ty, exc_val, tb): \n",
    "        self.sock.close()\n",
    "        self.sock = None"
   ]
  },
  {
   "cell_type": "code",
   "execution_count": 19,
   "id": "0db3009c",
   "metadata": {},
   "outputs": [],
   "source": [
    "class Date:\n",
    "    __slots__ = ['year', 'month', 'day'] \n",
    "\n",
    "    def __init__(self, year, month, day):\n",
    "        self.year = year\n",
    "        self.month = month\n",
    "        self.day = day"
   ]
  },
  {
   "cell_type": "code",
   "execution_count": 20,
   "id": "7c5a7cf5",
   "metadata": {},
   "outputs": [],
   "source": [
    "class Person:\n",
    "    def __init__(self, first_name):\n",
    "            self.first_name = first_name\n",
    "    \n",
    "    # Getter function\n",
    "    @property\n",
    "    def first_name(self): return self._first_name\n",
    "    \n",
    "    # Setter function\n",
    "    @first_name.setter\n",
    "    def first_name(self, value):\n",
    "        if not isinstance(value, str):\n",
    "            raise TypeError('Expected a string') \n",
    "        self._first_name = value\n",
    "        \n",
    "    # Deleter function (optional)\n",
    "    @first_name.deleter\n",
    "    def first_name(self):\n",
    "        raise AttributeError(\"Can't delete attribute\")"
   ]
  },
  {
   "cell_type": "code",
   "execution_count": 23,
   "id": "4dbcc9d7",
   "metadata": {},
   "outputs": [],
   "source": [
    "a = Person('Max')"
   ]
  },
  {
   "cell_type": "code",
   "execution_count": 24,
   "id": "570afc9c",
   "metadata": {},
   "outputs": [
    {
     "data": {
      "text/plain": [
       "'Max'"
      ]
     },
     "execution_count": 24,
     "metadata": {},
     "output_type": "execute_result"
    }
   ],
   "source": [
    "a.first_name"
   ]
  },
  {
   "cell_type": "code",
   "execution_count": 26,
   "id": "bf46b5e6",
   "metadata": {},
   "outputs": [],
   "source": [
    "class A:\n",
    "    def spam(self):\n",
    "        print('A.spam')\n",
    "        \n",
    "class B(A):\n",
    "    def spam(self):\n",
    "        print('B.spam') \n",
    "        super().spam()"
   ]
  },
  {
   "cell_type": "code",
   "execution_count": 44,
   "id": "e0cfaf7d",
   "metadata": {},
   "outputs": [],
   "source": [
    "class A:\n",
    "    def __init__(self):\n",
    "        self.x = 0\n",
    "class B(A):\n",
    "    def __init__(self):\n",
    "        super().__init__()\n",
    "        self.y = 1"
   ]
  },
  {
   "cell_type": "code",
   "execution_count": 1,
   "id": "43a86d85",
   "metadata": {},
   "outputs": [
    {
     "data": {
      "text/plain": [
       "'tom'"
      ]
     },
     "execution_count": 1,
     "metadata": {},
     "output_type": "execute_result"
    }
   ],
   "source": [
    "class Person:\n",
    "    def __init__(self, name):\n",
    "        self.name = name\n",
    "    def name(self): \n",
    "        return self.name\n",
    "    \n",
    "s = Person('tom')\n",
    "s.name"
   ]
  },
  {
   "cell_type": "code",
   "execution_count": null,
   "id": "0fcbbbdd",
   "metadata": {},
   "outputs": [],
   "source": []
  },
  {
   "cell_type": "code",
   "execution_count": 37,
   "id": "b7621226",
   "metadata": {},
   "outputs": [
    {
     "data": {
      "text/plain": [
       "<__main__.Person at 0x7fc4428738e0>"
      ]
     },
     "execution_count": 37,
     "metadata": {},
     "output_type": "execute_result"
    }
   ],
   "source": []
  },
  {
   "cell_type": "code",
   "execution_count": 3,
   "id": "e245b6f7",
   "metadata": {},
   "outputs": [],
   "source": [
    "class SubPerson(Person):\n",
    "    def name(self): \n",
    "        print('Getting name') \n",
    "        return super().name\n",
    "    \n",
    "x = SubPerson('xiana')"
   ]
  },
  {
   "cell_type": "code",
   "execution_count": 4,
   "id": "9bc87a40",
   "metadata": {},
   "outputs": [
    {
     "data": {
      "text/plain": [
       "'xiana'"
      ]
     },
     "execution_count": 4,
     "metadata": {},
     "output_type": "execute_result"
    }
   ],
   "source": [
    "x.name"
   ]
  },
  {
   "cell_type": "code",
   "execution_count": 7,
   "id": "7a9ffbff",
   "metadata": {},
   "outputs": [],
   "source": [
    "from abc import ABCMeta, abstractmethod\n",
    "\n",
    "class IStream(metaclass=ABCMeta): \n",
    "\n",
    "    @abstractmethod\n",
    "    def read(self, maxbytes=-1):\n",
    "        pass\n",
    "\n",
    "    @abstractmethod\n",
    "    def write(self, data): \n",
    "        pass\n"
   ]
  },
  {
   "cell_type": "code",
   "execution_count": 11,
   "id": "31019519",
   "metadata": {},
   "outputs": [],
   "source": [
    "class SizedString: \n",
    "    def __init__(self, String, MaxSized):\n",
    "            self.String = String\n",
    "            self.MaxSized = MaxSized\n",
    "\n",
    "class Stock:\n",
    "    # Specify constraints\n",
    "    name = SizedString('name',8)\n",
    "    def __init__(self,name):\n",
    "            self.name = name"
   ]
  },
  {
   "cell_type": "code",
   "execution_count": 14,
   "id": "12e81e0d",
   "metadata": {},
   "outputs": [],
   "source": [
    "s = Stock('Cam')"
   ]
  },
  {
   "cell_type": "code",
   "execution_count": 15,
   "id": "b5b5d6c7",
   "metadata": {},
   "outputs": [
    {
     "data": {
      "text/plain": [
       "'Camjjhiokokopkpokokokok'"
      ]
     },
     "execution_count": 15,
     "metadata": {},
     "output_type": "execute_result"
    }
   ],
   "source": [
    "s.name"
   ]
  },
  {
   "cell_type": "code",
   "execution_count": 18,
   "id": "8d0f5362",
   "metadata": {},
   "outputs": [],
   "source": [
    "import collections\n",
    "\n",
    "class A(collections.Iterable):\n",
    "    pass\n"
   ]
  },
  {
   "cell_type": "code",
   "execution_count": 36,
   "id": "f18ab80d",
   "metadata": {},
   "outputs": [
    {
     "ename": "IndentationError",
     "evalue": "unexpected indent (1791193226.py, line 5)",
     "output_type": "error",
     "traceback": [
      "\u001b[0;36m  Input \u001b[0;32mIn [36]\u001b[0;36m\u001b[0m\n\u001b[0;31m    def __init__(self, year, month, day):\u001b[0m\n\u001b[0m    ^\u001b[0m\n\u001b[0;31mIndentationError\u001b[0m\u001b[0;31m:\u001b[0m unexpected indent\n"
     ]
    }
   ],
   "source": [
    "import time\n",
    "\n",
    "class Date:\n",
    "    # Primary constructor\n",
    "    def __init__(self, year, month, day):\n",
    "            self.year = year\n",
    "            self.month = month\n",
    "            self.day = day\n",
    "        # Alternate constructor\n",
    "    @classmethod\n",
    "    def today(cls):\n",
    "        t = time.localtime()\n",
    "        return cls(t.tm_year, t.tm_mon, t.tm_mday)"
   ]
  },
  {
   "cell_type": "code",
   "execution_count": 23,
   "id": "abccc1c7",
   "metadata": {},
   "outputs": [],
   "source": [
    "a = Date(2022,6,2)"
   ]
  },
  {
   "cell_type": "code",
   "execution_count": 24,
   "id": "444dec64",
   "metadata": {},
   "outputs": [],
   "source": [
    "b = Date.today()"
   ]
  },
  {
   "cell_type": "code",
   "execution_count": 25,
   "id": "c2b4eef2",
   "metadata": {},
   "outputs": [
    {
     "data": {
      "text/plain": [
       "<__main__.Date at 0x7fbfa815da00>"
      ]
     },
     "execution_count": 25,
     "metadata": {},
     "output_type": "execute_result"
    }
   ],
   "source": [
    "a"
   ]
  },
  {
   "cell_type": "code",
   "execution_count": 26,
   "id": "900e7b2e",
   "metadata": {},
   "outputs": [
    {
     "name": "stdout",
     "output_type": "stream",
     "text": [
      "<__main__.Date object at 0x7fbfa815da00>\n"
     ]
    }
   ],
   "source": [
    "print(a)"
   ]
  },
  {
   "cell_type": "code",
   "execution_count": 27,
   "id": "35b63f47",
   "metadata": {},
   "outputs": [
    {
     "data": {
      "text/plain": [
       "2022"
      ]
     },
     "execution_count": 27,
     "metadata": {},
     "output_type": "execute_result"
    }
   ],
   "source": [
    "a.year"
   ]
  },
  {
   "cell_type": "code",
   "execution_count": 28,
   "id": "63a8c92b",
   "metadata": {},
   "outputs": [
    {
     "data": {
      "text/plain": [
       "6"
      ]
     },
     "execution_count": 28,
     "metadata": {},
     "output_type": "execute_result"
    }
   ],
   "source": [
    "`a.month"
   ]
  },
  {
   "cell_type": "code",
   "execution_count": 29,
   "id": "21208043",
   "metadata": {},
   "outputs": [
    {
     "data": {
      "text/plain": [
       "<__main__.Date at 0x7fbfa815fb80>"
      ]
     },
     "execution_count": 29,
     "metadata": {},
     "output_type": "execute_result"
    }
   ],
   "source": [
    "b"
   ]
  },
  {
   "cell_type": "code",
   "execution_count": 30,
   "id": "1fb6c8cc",
   "metadata": {},
   "outputs": [
    {
     "data": {
      "text/plain": [
       "10"
      ]
     },
     "execution_count": 30,
     "metadata": {},
     "output_type": "execute_result"
    }
   ],
   "source": [
    "b.month"
   ]
  },
  {
   "cell_type": "code",
   "execution_count": 31,
   "id": "5b5d18ae",
   "metadata": {},
   "outputs": [
    {
     "data": {
      "text/plain": [
       "2022"
      ]
     },
     "execution_count": 31,
     "metadata": {},
     "output_type": "execute_result"
    }
   ],
   "source": [
    "b.year"
   ]
  },
  {
   "cell_type": "code",
   "execution_count": 32,
   "id": "0bf72d07",
   "metadata": {},
   "outputs": [
    {
     "data": {
      "text/plain": [
       "2"
      ]
     },
     "execution_count": 32,
     "metadata": {},
     "output_type": "execute_result"
    }
   ],
   "source": [
    "b.day"
   ]
  },
  {
   "cell_type": "code",
   "execution_count": 40,
   "id": "cb896c16",
   "metadata": {},
   "outputs": [],
   "source": [
    "d = Date.__new__(Date)"
   ]
  },
  {
   "cell_type": "code",
   "execution_count": 41,
   "id": "94a6c53e",
   "metadata": {},
   "outputs": [],
   "source": [
    "data = {'year':2012, 'month':8, 'day':29}\n",
    "for key, value in data.items():\n",
    "    setattr(d, key, value)"
   ]
  },
  {
   "cell_type": "code",
   "execution_count": 42,
   "id": "3a579a87",
   "metadata": {},
   "outputs": [
    {
     "data": {
      "text/plain": [
       "2012"
      ]
     },
     "execution_count": 42,
     "metadata": {},
     "output_type": "execute_result"
    }
   ],
   "source": [
    "d.year"
   ]
  },
  {
   "cell_type": "code",
   "execution_count": null,
   "id": "3e9061ed",
   "metadata": {},
   "outputs": [],
   "source": []
  }
 ],
 "metadata": {
  "kernelspec": {
   "display_name": "Python 3 (ipykernel)",
   "language": "python",
   "name": "python3"
  },
  "language_info": {
   "codemirror_mode": {
    "name": "ipython",
    "version": 3
   },
   "file_extension": ".py",
   "mimetype": "text/x-python",
   "name": "python",
   "nbconvert_exporter": "python",
   "pygments_lexer": "ipython3",
   "version": "3.9.12"
  }
 },
 "nbformat": 4,
 "nbformat_minor": 5
}
