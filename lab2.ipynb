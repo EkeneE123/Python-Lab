{
 "cells": [
  {
   "cell_type": "code",
   "execution_count": 1,
   "id": "4693b048",
   "metadata": {},
   "outputs": [
    {
     "data": {
      "text/plain": [
       "['asdf', 'fjdk', 'afed', 'fjek', 'asdf', 'foo']"
      ]
     },
     "execution_count": 1,
     "metadata": {},
     "output_type": "execute_result"
    }
   ],
   "source": [
    "line = 'asdf fjdk; afed, fjek,asdf, foo'\n",
    "import re\n",
    "re.split(r'[;,\\s]\\s*', line)\n"
   ]
  },
  {
   "cell_type": "code",
   "execution_count": 3,
   "id": "7995de55",
   "metadata": {},
   "outputs": [
    {
     "data": {
      "text/plain": [
       "True"
      ]
     },
     "execution_count": 3,
     "metadata": {},
     "output_type": "execute_result"
    }
   ],
   "source": [
    "x = '12345'\n",
    "x.startswith('123')"
   ]
  },
  {
   "cell_type": "code",
   "execution_count": 4,
   "id": "391dcb63",
   "metadata": {},
   "outputs": [
    {
     "data": {
      "text/plain": [
       "True"
      ]
     },
     "execution_count": 4,
     "metadata": {},
     "output_type": "execute_result"
    }
   ],
   "source": [
    "x.endswith('45')"
   ]
  },
  {
   "cell_type": "code",
   "execution_count": 5,
   "id": "969c207e",
   "metadata": {},
   "outputs": [
    {
     "data": {
      "text/plain": [
       "['file.txt',\n",
       " '.eclipse',\n",
       " '.config',\n",
       " 'Music',\n",
       " '.babel.7.15.5.production.json',\n",
       " '.yarn',\n",
       " '.condarc',\n",
       " 'lab7',\n",
       " 'file0.txt',\n",
       " '.DS_Store',\n",
       " 'eclipse',\n",
       " '.dbvis',\n",
       " '.bitnami.back',\n",
       " '.yarnrc',\n",
       " '.CFUserTextEncoding',\n",
       " '.xonshrc',\n",
       " 'Untitled.ipynb',\n",
       " '.zshrc',\n",
       " 'groupproject',\n",
       " 'OneDrive',\n",
       " 'Pictures',\n",
       " '.fontconfig',\n",
       " '.atom',\n",
       " 'node_modules',\n",
       " '.zsh_history',\n",
       " '.p2',\n",
       " '.ipython',\n",
       " 'Desktop',\n",
       " 'Library',\n",
       " 'jump-git',\n",
       " '.bitnami',\n",
       " '.IdentityService',\n",
       " '.android',\n",
       " '.cups',\n",
       " 'Public',\n",
       " 'package-lock.json',\n",
       " '.tcshrc',\n",
       " '.anaconda',\n",
       " '.ssh',\n",
       " 'Movies',\n",
       " 'Applications',\n",
       " '.dbshell',\n",
       " 'opt',\n",
       " '.Trash',\n",
       " '.ipynb_checkpoints',\n",
       " '.jupyter',\n",
       " '.npm',\n",
       " 'Documents',\n",
       " '.mono',\n",
       " '.vscode',\n",
       " 'lab1.ipynb',\n",
       " 'practice',\n",
       " '.bash_profile',\n",
       " 'Downloads',\n",
       " '.python_history',\n",
       " '.continuum',\n",
       " '.cache',\n",
       " '.gitconfig',\n",
       " '.mongorc.js',\n",
       " '.bash_history',\n",
       " '.viminfo',\n",
       " '.zsh_sessions',\n",
       " '.conda']"
      ]
     },
     "execution_count": 5,
     "metadata": {},
     "output_type": "execute_result"
    }
   ],
   "source": [
    "import os\n",
    "filenames = os.listdir('.')\n",
    "filenames"
   ]
  },
  {
   "cell_type": "code",
   "execution_count": 8,
   "id": "a19caf02",
   "metadata": {},
   "outputs": [
    {
     "data": {
      "text/plain": [
       "['.mono', '.viminfo']"
      ]
     },
     "execution_count": 8,
     "metadata": {},
     "output_type": "execute_result"
    }
   ],
   "source": [
    "[name for name in filenames if name.endswith(('o')) ]"
   ]
  },
  {
   "cell_type": "code",
   "execution_count": 9,
   "id": "0ad22053",
   "metadata": {},
   "outputs": [
    {
     "data": {
      "text/plain": [
       "True"
      ]
     },
     "execution_count": 9,
     "metadata": {},
     "output_type": "execute_result"
    }
   ],
   "source": [
    "from fnmatch import fnmatch, fnmatchcase\n",
    "fnmatch('foo.txt', '*.txt')"
   ]
  },
  {
   "cell_type": "code",
   "execution_count": 13,
   "id": "367516db",
   "metadata": {},
   "outputs": [
    {
     "data": {
      "text/plain": [
       "'You want to go outside'"
      ]
     },
     "execution_count": 13,
     "metadata": {},
     "output_type": "execute_result"
    }
   ],
   "source": [
    "z = 'I want to go outside'\n",
    "z.replace('I','You')"
   ]
  },
  {
   "cell_type": "code",
   "execution_count": 14,
   "id": "49af022a",
   "metadata": {},
   "outputs": [],
   "source": [
    "s1 = 'Spicy Jalape\\u00f1o' \n",
    "s2 = 'Spicy Jalapen\\u0303o'"
   ]
  },
  {
   "cell_type": "code",
   "execution_count": 15,
   "id": "0206e3a7",
   "metadata": {},
   "outputs": [
    {
     "name": "stdout",
     "output_type": "stream",
     "text": [
      "Spicy Jalapeño\n",
      "Spicy Jalapeño\n"
     ]
    }
   ],
   "source": [
    "print(s1)\n",
    "print(s2)"
   ]
  },
  {
   "cell_type": "code",
   "execution_count": 16,
   "id": "53176982",
   "metadata": {},
   "outputs": [
    {
     "data": {
      "text/plain": [
       "False"
      ]
     },
     "execution_count": 16,
     "metadata": {},
     "output_type": "execute_result"
    }
   ],
   "source": [
    "s1==s2\n"
   ]
  },
  {
   "cell_type": "code",
   "execution_count": 20,
   "id": "a7ffb840",
   "metadata": {},
   "outputs": [
    {
     "data": {
      "text/plain": [
       "'bye'"
      ]
     },
     "execution_count": 20,
     "metadata": {},
     "output_type": "execute_result"
    }
   ],
   "source": [
    "s = \"-----bye=====\"\n",
    "s.strip('-=')"
   ]
  },
  {
   "cell_type": "code",
   "execution_count": 21,
   "id": "ad9c3ef2",
   "metadata": {},
   "outputs": [
    {
     "data": {
      "text/plain": [
       "'-----bye'"
      ]
     },
     "execution_count": 21,
     "metadata": {},
     "output_type": "execute_result"
    }
   ],
   "source": [
    "s.rstrip('=')"
   ]
  },
  {
   "cell_type": "code",
   "execution_count": 22,
   "id": "33419e74",
   "metadata": {},
   "outputs": [
    {
     "data": {
      "text/plain": [
       "'bye====='"
      ]
     },
     "execution_count": 22,
     "metadata": {},
     "output_type": "execute_result"
    }
   ],
   "source": [
    "s.lstrip('-')"
   ]
  },
  {
   "cell_type": "code",
   "execution_count": 23,
   "id": "046728b3",
   "metadata": {},
   "outputs": [
    {
     "data": {
      "text/plain": [
       "'-----bye====='"
      ]
     },
     "execution_count": 23,
     "metadata": {},
     "output_type": "execute_result"
    }
   ],
   "source": [
    "s.strip()"
   ]
  },
  {
   "cell_type": "code",
   "execution_count": 24,
   "id": "50469f37",
   "metadata": {},
   "outputs": [
    {
     "data": {
      "text/plain": [
       "'      Hello Everyone'"
      ]
     },
     "execution_count": 24,
     "metadata": {},
     "output_type": "execute_result"
    }
   ],
   "source": [
    "x = 'Hello Everyone'\n",
    "x.rjust(20)"
   ]
  },
  {
   "cell_type": "code",
   "execution_count": 25,
   "id": "6f26badd",
   "metadata": {},
   "outputs": [
    {
     "data": {
      "text/plain": [
       "'Hello Everyonexxxxxx'"
      ]
     },
     "execution_count": 25,
     "metadata": {},
     "output_type": "execute_result"
    }
   ],
   "source": [
    "x.ljust(20,'x')"
   ]
  },
  {
   "cell_type": "code",
   "execution_count": 26,
   "id": "828553e8",
   "metadata": {},
   "outputs": [
    {
     "data": {
      "text/plain": [
       "'Mom I love you'"
      ]
     },
     "execution_count": 26,
     "metadata": {},
     "output_type": "execute_result"
    }
   ],
   "source": [
    "parts = ['Mom','I','love','you']\n",
    "' '.join(parts)"
   ]
  },
  {
   "cell_type": "code",
   "execution_count": 27,
   "id": "a5ee9791",
   "metadata": {},
   "outputs": [
    {
     "data": {
      "text/plain": [
       "'John has 4 kids.'"
      ]
     },
     "execution_count": 27,
     "metadata": {},
     "output_type": "execute_result"
    }
   ],
   "source": [
    "s = '{name} has {n} kids.'\n",
    "s.format(name='John', n=4)"
   ]
  },
  {
   "cell_type": "code",
   "execution_count": 28,
   "id": "3fa544ae",
   "metadata": {},
   "outputs": [
    {
     "name": "stdout",
     "output_type": "stream",
     "text": [
      "Elements are written as &quot;&lt;tag&gt;text&lt;/tag&gt;&quot;.\n"
     ]
    }
   ],
   "source": [
    "s = 'Elements are written as \"<tag>text</tag>\".'\n",
    "import html\n",
    "print(html.escape(s))"
   ]
  },
  {
   "cell_type": "code",
   "execution_count": null,
   "id": "7cfec426",
   "metadata": {},
   "outputs": [],
   "source": []
  },
  {
   "cell_type": "code",
   "execution_count": null,
   "id": "816302d5",
   "metadata": {},
   "outputs": [],
   "source": []
  }
 ],
 "metadata": {
  "kernelspec": {
   "display_name": "Python 3 (ipykernel)",
   "language": "python",
   "name": "python3"
  },
  "language_info": {
   "codemirror_mode": {
    "name": "ipython",
    "version": 3
   },
   "file_extension": ".py",
   "mimetype": "text/x-python",
   "name": "python",
   "nbconvert_exporter": "python",
   "pygments_lexer": "ipython3",
   "version": "3.9.12"
  }
 },
 "nbformat": 4,
 "nbformat_minor": 5
}
